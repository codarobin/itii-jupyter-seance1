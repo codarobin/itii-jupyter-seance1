{
 "cells": [
  {
   "cell_type": "code",
   "execution_count": 18,
   "metadata": {},
   "outputs": [
    {
     "data": {
      "text/plain": [
       "5.235987755982989"
      ]
     },
     "execution_count": 18,
     "metadata": {},
     "output_type": "execute_result"
    }
   ],
   "source": [
    "!pip install Numpy\n",
    "!pip install matplotlib\n",
    "from math import pi\n",
    "def rayon (rayon,hauteur):\n",
    "    res = (pi * (rayon * rayon)*(hauteur/3))\n",
    "    return res\n",
    "rayon(1,5)"
   ]
  },
  {
   "cell_type": "code",
   "execution_count": 7,
   "metadata": {
    "scrolled": false
   },
   "outputs": [
    {
     "name": "stdout",
     "output_type": "stream",
     "text": [
      "Requirement already satisfied: Numpy in /home/robin/anaconda3/lib/python3.8/site-packages (1.18.5)\n",
      "Requirement already satisfied: matplotlib in /home/robin/anaconda3/lib/python3.8/site-packages (3.2.2)\n",
      "Requirement already satisfied: kiwisolver>=1.0.1 in /home/robin/anaconda3/lib/python3.8/site-packages (from matplotlib) (1.2.0)\n",
      "Requirement already satisfied: cycler>=0.10 in /home/robin/anaconda3/lib/python3.8/site-packages (from matplotlib) (0.10.0)\n",
      "Requirement already satisfied: python-dateutil>=2.1 in /home/robin/anaconda3/lib/python3.8/site-packages (from matplotlib) (2.8.1)\n",
      "Requirement already satisfied: numpy>=1.11 in /home/robin/anaconda3/lib/python3.8/site-packages (from matplotlib) (1.18.5)\n",
      "Requirement already satisfied: pyparsing!=2.0.4,!=2.1.2,!=2.1.6,>=2.0.1 in /home/robin/anaconda3/lib/python3.8/site-packages (from matplotlib) (2.4.7)\n",
      "Requirement already satisfied: six in /home/robin/anaconda3/lib/python3.8/site-packages (from cycler>=0.10->matplotlib) (1.15.0)\n"
     ]
    },
    {
     "data": {
      "text/plain": [
       "1"
      ]
     },
     "execution_count": 7,
     "metadata": {},
     "output_type": "execute_result"
    }
   ],
   "source": [
    "!pip install Numpy\n",
    "!pip install matplotlib\n",
    "def sommecube (n):\n",
    "    puissance = 3\n",
    "    res = 0\n",
    "    for i in range (n+1):\n",
    "      res = res + i** puissance\n",
    "    return res\n",
    "sommecube(1)"
   ]
  },
  {
   "cell_type": "code",
   "execution_count": 6,
   "metadata": {},
   "outputs": [
    {
     "data": {
      "text/plain": [
       "3"
      ]
     },
     "execution_count": 6,
     "metadata": {},
     "output_type": "execute_result"
    }
   ],
   "source": [
    "def sommecube2 (n):\n",
    "    res1 = 0\n",
    "    for i in range (n+1):\n",
    "      res1 = res1 + i\n",
    "    return res1\n",
    "sommecube2(2)"
   ]
  },
  {
   "cell_type": "code",
   "execution_count": null,
   "metadata": {},
   "outputs": [],
   "source": [
    "import numpy as np\n",
    "rayon = input(\"Rayon : \")\n",
    "rayon = float(rayon)\n",
    "h = input(\"Hauteur : \")\n",
    "h = float(h)\n",
    "vol = rayon**2 * h * np.pi / 3\n",
    "print(f\"Volume du cône de hauteur {h} et de rayon {rayon} = {vol}\")\n"
   ]
  },
  {
   "cell_type": "code",
   "execution_count": null,
   "metadata": {},
   "outputs": [],
   "source": [
    "import numpy as np\n",
    "n = input(\"n : \")\n",
    "n = int(n)\n",
    "entiers = np.arange(n)\n",
    "somme = np.sum([i*i*i for i in entiers])\n",
    "print(f\"Somme des entiers {somme}\")"
   ]
  },
  {
   "cell_type": "code",
   "execution_count": null,
   "metadata": {},
   "outputs": [],
   "source": [
    "import numpy as np\n",
    "n = input(\"n : \")\n",
    "n = int(n)\n",
    "entiers = np.arange(n)\n",
    "somme = np.sum(entiers)\n",
    "print(f\"Somme des n premiers entiers = {somme}\")"
   ]
  },
  {
   "cell_type": "code",
   "execution_count": null,
   "metadata": {},
   "outputs": [],
   "source": [
    "import numpy as np\n",
    "n = 0\n",
    "for entier in np.arange(15) :\n",
    "    for c in str(entier) :\n",
    "        if(c == '1'): n+=1\n",
    "print(f\"Nombre de '1' : {n}\")"
   ]
  },
  {
   "cell_type": "code",
   "execution_count": null,
   "metadata": {},
   "outputs": [],
   "source": [
    "#Exemple : N = 152 # = 1x10^2 + 5x10^1 + 2 -> a_2 = 1, a_1 = 5 et a_0 = 2\n",
    "\n",
    "N = input(\"N : \")\n",
    "N = int(N)\n",
    "\n",
    "n = 9\n",
    "\n",
    "while n >= 0 :\n",
    "    an = N//10**n\n",
    "    reste = N%10**n\n",
    "    if an != 0: print(f\"a{n}={an}\")\n",
    "    N = reste\n",
    "    n = n-1"
   ]
  },
  {
   "cell_type": "code",
   "execution_count": null,
   "metadata": {},
   "outputs": [],
   "source": [
    "import random as rand\n",
    "import math\n",
    "import numpy as np\n",
    "import matplotlib.pyplot as plt\n",
    "\n",
    "inside = 0\n",
    "outside = 0\n",
    "x = [np.cos(teta) for teta in np.arange(0,np.pi/2,np.pi/2000)]\n",
    "y = [np.sin(teta) for teta in np.arange(0,np.pi/2,np.pi/2000)]\n",
    "fig1, ax = plt.subplots()\n",
    "ax.set_xlim(0,1)\n",
    "#ax.axes.set_box_aspect(1)\n",
    "plt.axes().set_aspect('equal')\n",
    "plt.plot(x,y,'k-',lw=5)\n",
    "\n",
    "for i in range(1000) :\n",
    "    x=rand.random()\n",
    "    y=rand.random()\n",
    "\n",
    "    \n",
    "    r = math.sqrt(x*x+y*y)\n",
    "    if r <=1 :\n",
    "        inside += 1\n",
    "        plt.plot(x,y,'bo')\n",
    "\n",
    "    else :\n",
    "        outside +=1\n",
    "        plt.plot(x,y,'ro')\n",
    "        \n",
    "plt.show()\n",
    "        \n",
    "\n",
    "print(f\"pi = {inside/(inside+outside)*4}\")"
   ]
  }
 ],
 "metadata": {
  "kernelspec": {
   "display_name": "Python 3",
   "language": "python",
   "name": "python3"
  },
  "language_info": {
   "codemirror_mode": {
    "name": "ipython",
    "version": 3
   },
   "file_extension": ".py",
   "mimetype": "text/x-python",
   "name": "python",
   "nbconvert_exporter": "python",
   "pygments_lexer": "ipython3",
   "version": "3.8.3"
  }
 },
 "nbformat": 4,
 "nbformat_minor": 4
}
